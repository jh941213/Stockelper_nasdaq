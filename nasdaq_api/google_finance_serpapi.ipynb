{
 "cells": [
  {
   "cell_type": "code",
   "execution_count": 11,
   "metadata": {},
   "outputs": [
    {
     "name": "stdout",
     "output_type": "stream",
     "text": [
      "회사명: TSLA\n",
      "현재 가격: $262.51\n"
     ]
    }
   ],
   "source": [
    "import requests\n",
    "\n",
    "api_key = \"your_api_key\"\n",
    "\n",
    "def get_stock_info(symbol: str) -> None:\n",
    "    url = \"https://serpapi.com/search.json\"\n",
    "    params = {\n",
    "        \"engine\": \"google_finance\",\n",
    "        \"q\": f\"{symbol}:NASDAQ\",\n",
    "        \"api_key\": api_key\n",
    "    }\n",
    "\n",
    "    response = requests.get(url, params=params)\n",
    "\n",
    "    if response.status_code == 200:\n",
    "        data = response.json()\n",
    "        # 가격과 회사명 정보 추출\n",
    "        summary = data.get(\"summary\", {})\n",
    "        price = summary.get(\"extracted_price\", \"가격 정보 없음\")\n",
    "        name = symbol\n",
    "        \n",
    "        print(f\"회사명: {name}\")\n",
    "        print(f\"현재 가격: ${price}\")\n",
    "    else:\n",
    "        print(\"API 요청에 실패했습니다.\", response.status_code)\n",
    "\n",
    "# 사용 예시\n",
    "symbol = 'TSLA'\n",
    "get_stock_info(symbol)"
   ]
  },
  {
   "cell_type": "code",
   "execution_count": null,
   "metadata": {},
   "outputs": [],
   "source": []
  }
 ],
 "metadata": {
  "kernelspec": {
   "display_name": "kospi",
   "language": "python",
   "name": "python3"
  },
  "language_info": {
   "codemirror_mode": {
    "name": "ipython",
    "version": 3
   },
   "file_extension": ".py",
   "mimetype": "text/x-python",
   "name": "python",
   "nbconvert_exporter": "python",
   "pygments_lexer": "ipython3",
   "version": "3.11.9"
  }
 },
 "nbformat": 4,
 "nbformat_minor": 2
}
